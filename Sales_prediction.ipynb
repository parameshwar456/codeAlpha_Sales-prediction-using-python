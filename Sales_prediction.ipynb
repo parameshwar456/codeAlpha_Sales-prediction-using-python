{
  "cells": [
    {
      "cell_type": "markdown",
      "metadata": {
        "id": "NL8qdOOrJ6M-"
      },
      "source": [
        "1) Imports & configuration"
      ]
    },
    {
      "cell_type": "code",
      "execution_count": null,
      "metadata": {
        "id": "Lcg_Ol4SCAz6"
      },
      "outputs": [],
      "source": [
        "import numpy as np\n",
        "import pandas as pd\n",
        "import matplotlib.pyplot as plt\n",
        "\n",
        "from sklearn.model_selection import train_test_split, TimeSeriesSplit, cross_val_score\n",
        "from sklearn.compose import ColumnTransformer\n",
        "from sklearn.preprocessing import OneHotEncoder, StandardScaler\n",
        "from sklearn.pipeline import Pipeline\n",
        "from sklearn.linear_model import LinearRegression\n",
        "from sklearn.ensemble import RandomForestRegressor\n",
        "from sklearn.metrics import r2_score, mean_absolute_error, mean_squared_error\n",
        "from sklearn.inspection import permutation_importance, PartialDependenceDisplay\n",
        "from sklearn.metrics import r2_score, mean_absolute_error, mean_squared_error\n",
        "\n"
      ]
    },
    {
      "cell_type": "code",
      "execution_count": null,
      "metadata": {
        "id": "L5fnFjLdCUNY"
      },
      "outputs": [],
      "source": [
        "import warnings, os\n",
        "warnings.filterwarnings(\"ignore\")"
      ]
    },
    {
      "cell_type": "markdown",
      "metadata": {
        "id": "7lBRCWD3NOXF"
      },
      "source": [
        "# Optional (for time-series with exogenous ad_spend)"
      ]
    },
    {
      "cell_type": "code",
      "execution_count": null,
      "metadata": {
        "id": "ho2uzBqRNR4H"
      },
      "outputs": [],
      "source": [
        "try:\n",
        "    from statsmodels.tsa.statespace.sarimax import SARIMAX\n",
        "    HAS_STATS = True\n",
        "except Exception:\n",
        "    HAS_STATS = False"
      ]
    },
    {
      "cell_type": "markdown",
      "metadata": {
        "id": "rY5lKpBQJ-r_"
      },
      "source": [
        "2) (Optional) Make a tiny demo dataset you can run now"
      ]
    },
    {
      "cell_type": "code",
      "execution_count": null,
      "metadata": {
        "id": "I6ZZpyfqEGFm"
      },
      "outputs": [],
      "source": [
        "np.random.seed(42)\n",
        "dates = pd.date_range(\"2024-11-01\", periods=120, freq=\"D\")\n",
        "platforms = np.random.choice([\"Google\",\"Meta\",\"TV\",\"Influencer\",\"Email\"], size=len(dates))\n",
        "segments = np.random.choice([\"New\",\"Returning\",\"SMB\",\"Enterprise\"], size=len(dates))\n",
        "\n",
        "ad_spend = np.random.gamma(shape=15, scale=120, size=len(dates))  # skewed like real spend\n",
        "impressions = np.clip((ad_spend*50 + np.random.normal(0, 2e3, len(dates))).astype(int), 0, None)\n",
        "clicks = np.clip((impressions*0.03 + np.random.normal(0, 200, len(dates))).astype(int), 0, None)\n",
        "conversions = np.clip((clicks*0.07 + np.random.normal(0, 20, len(dates))).astype(int), 0, None)\n",
        "avg_order_value = np.random.normal(45, 5, len(dates)).clip(20, 80)\n",
        "discount_rate = np.random.choice([0.0,0.05,0.1,0.15], size=len(dates))\n",
        "units_in_stock = np.random.randint(600, 1000, len(dates))\n",
        "price_index = np.random.normal(1.0, 0.05, len(dates)).clip(0.85, 1.15)\n",
        "holiday = (pd.Series(dates).dt.dayofweek.isin([5,6])).astype(int)  # weekends as pseudo-holidays\n",
        "region = np.random.choice([\"North\",\"South\",\"East\",\"West\"], size=len(dates))\n",
        "\n",
        "# true sales signal (ad_spend + seasonality + noise)\n",
        "true_sales = (\n",
        "    2.0*ad_spend\n",
        "    + 0.05*impressions\n",
        "    + 80*conversions\n",
        "    + (avg_order_value * 5)\n",
        "    - 500*discount_rate\n",
        "    + 800*holiday\n",
        "    + np.sin(np.arange(len(dates))/7)*500\n",
        "    + np.random.normal(0, 1500, len(dates))\n",
        ").clip(5000, None)\n",
        "\n",
        "demo = pd.DataFrame({\n",
        "    \"date\": dates,\n",
        "    \"sales\": true_sales.round(0),\n",
        "    \"ad_spend\": ad_spend.round(2),\n",
        "    \"platform\": platforms,\n",
        "    \"segment\": segments,\n",
        "    \"impressions\": impressions,\n",
        "    \"clicks\": clicks,\n",
        "    \"conversions\": conversions,\n",
        "    \"avg_order_value\": avg_order_value.round(2),\n",
        "    \"discount_rate\": discount_rate,\n",
        "    \"units_in_stock\": units_in_stock,\n",
        "    \"price_index\": price_index.round(3),\n",
        "    \"holiday\": holiday,\n",
        "    \"region\": region\n",
        "})\n",
        "demo.to_csv(\"/content/Advertising.csv\", index=False)"
      ]
    },
    {
      "cell_type": "markdown",
      "metadata": {
        "id": "XLj4OyTjKJ9o"
      },
      "source": [
        "3) Load your data & quick checks"
      ]
    },
    {
      "cell_type": "code",
      "execution_count": null,
      "metadata": {
        "id": "JPXjzPYaCY7U"
      },
      "outputs": [],
      "source": [
        "df = pd.read_csv(\"/content/Advertising.csv\")"
      ]
    },
    {
      "cell_type": "code",
      "execution_count": null,
      "metadata": {
        "colab": {
          "base_uri": "https://localhost:8080/",
          "height": 423
        },
        "id": "1J2ot7TZCwCs",
        "outputId": "fa7b3b25-bc01-4c69-c46e-e8c9dbb84754"
      },
      "outputs": [
        {
          "data": {
            "application/vnd.google.colaboratory.intrinsic+json": {
              "summary": "{\n  \"name\": \"df\",\n  \"rows\": 120,\n  \"fields\": [\n    {\n      \"column\": \"date\",\n      \"properties\": {\n        \"dtype\": \"object\",\n        \"num_unique_values\": 120,\n        \"samples\": [\n          \"2024-12-15\",\n          \"2024-12-18\",\n          \"2024-11-05\"\n        ],\n        \"semantic_type\": \"\",\n        \"description\": \"\"\n      }\n    },\n    {\n      \"column\": \"sales\",\n      \"properties\": {\n        \"dtype\": \"number\",\n        \"std\": 6859.337467695279,\n        \"min\": 6972.0,\n        \"max\": 56914.0,\n        \"num_unique_values\": 120,\n        \"samples\": [\n          20249.0,\n          13989.0,\n          19148.0\n        ],\n        \"semantic_type\": \"\",\n        \"description\": \"\"\n      }\n    },\n    {\n      \"column\": \"ad_spend\",\n      \"properties\": {\n        \"dtype\": \"number\",\n        \"std\": 500.33290562224323,\n        \"min\": 651.14,\n        \"max\": 4190.69,\n        \"num_unique_values\": 119,\n        \"samples\": [\n          2007.47,\n          1181.17,\n          1342.9\n        ],\n        \"semantic_type\": \"\",\n        \"description\": \"\"\n      }\n    },\n    {\n      \"column\": \"platform\",\n      \"properties\": {\n        \"dtype\": \"category\",\n        \"num_unique_values\": 5,\n        \"samples\": [\n          \"Email\",\n          \"Google\",\n          \"TV\"\n        ],\n        \"semantic_type\": \"\",\n        \"description\": \"\"\n      }\n    },\n    {\n      \"column\": \"segment\",\n      \"properties\": {\n        \"dtype\": \"category\",\n        \"num_unique_values\": 4,\n        \"samples\": [\n          \"Enterprise\",\n          \"SMB\",\n          \"Returning\"\n        ],\n        \"semantic_type\": \"\",\n        \"description\": \"\"\n      }\n    },\n    {\n      \"column\": \"impressions\",\n      \"properties\": {\n        \"dtype\": \"number\",\n        \"std\": 25167,\n        \"min\": 29488,\n        \"max\": 208482,\n        \"num_unique_values\": 120,\n        \"samples\": [\n          69990,\n          64285,\n          67120\n        ],\n        \"semantic_type\": \"\",\n        \"description\": \"\"\n      }\n    },\n    {\n      \"column\": \"clicks\",\n      \"properties\": {\n        \"dtype\": \"number\",\n        \"std\": 754,\n        \"min\": 871,\n        \"max\": 6367,\n        \"num_unique_values\": 117,\n        \"samples\": [\n          2053,\n          2001,\n          3146\n        ],\n        \"semantic_type\": \"\",\n        \"description\": \"\"\n      }\n    },\n    {\n      \"column\": \"conversions\",\n      \"properties\": {\n        \"dtype\": \"number\",\n        \"std\": 58,\n        \"min\": 55,\n        \"max\": 472,\n        \"num_unique_values\": 88,\n        \"samples\": [\n          144,\n          194,\n          250\n        ],\n        \"semantic_type\": \"\",\n        \"description\": \"\"\n      }\n    },\n    {\n      \"column\": \"avg_order_value\",\n      \"properties\": {\n        \"dtype\": \"number\",\n        \"std\": 4.643610373827845,\n        \"min\": 34.59,\n        \"max\": 58.16,\n        \"num_unique_values\": 113,\n        \"samples\": [\n          48.54,\n          43.2,\n          46.74\n        ],\n        \"semantic_type\": \"\",\n        \"description\": \"\"\n      }\n    },\n    {\n      \"column\": \"discount_rate\",\n      \"properties\": {\n        \"dtype\": \"number\",\n        \"std\": 0.05661896575276844,\n        \"min\": 0.0,\n        \"max\": 0.15,\n        \"num_unique_values\": 4,\n        \"samples\": [\n          0.1,\n          0.15,\n          0.05\n        ],\n        \"semantic_type\": \"\",\n        \"description\": \"\"\n      }\n    },\n    {\n      \"column\": \"units_in_stock\",\n      \"properties\": {\n        \"dtype\": \"number\",\n        \"std\": 118,\n        \"min\": 602,\n        \"max\": 997,\n        \"num_unique_values\": 101,\n        \"samples\": [\n          780,\n          775,\n          714\n        ],\n        \"semantic_type\": \"\",\n        \"description\": \"\"\n      }\n    },\n    {\n      \"column\": \"price_index\",\n      \"properties\": {\n        \"dtype\": \"number\",\n        \"std\": 0.047871676479559255,\n        \"min\": 0.879,\n        \"max\": 1.108,\n        \"num_unique_values\": 84,\n        \"samples\": [\n          1.003,\n          1.001,\n          1.038\n        ],\n        \"semantic_type\": \"\",\n        \"description\": \"\"\n      }\n    },\n    {\n      \"column\": \"holiday\",\n      \"properties\": {\n        \"dtype\": \"number\",\n        \"std\": 0,\n        \"min\": 0,\n        \"max\": 1,\n        \"num_unique_values\": 2,\n        \"samples\": [\n          1,\n          0\n        ],\n        \"semantic_type\": \"\",\n        \"description\": \"\"\n      }\n    },\n    {\n      \"column\": \"region\",\n      \"properties\": {\n        \"dtype\": \"category\",\n        \"num_unique_values\": 4,\n        \"samples\": [\n          \"West\",\n          \"North\"\n        ],\n        \"semantic_type\": \"\",\n        \"description\": \"\"\n      }\n    }\n  ]\n}",
              "type": "dataframe",
              "variable_name": "df"
            },
            "text/html": [
              "\n",
              "  <div id=\"df-8c7c4838-eb40-4f16-ba02-3aa4915bcc29\" class=\"colab-df-container\">\n",
              "    <div>\n",
              "<style scoped>\n",
              "    .dataframe tbody tr th:only-of-type {\n",
              "        vertical-align: middle;\n",
              "    }\n",
              "\n",
              "    .dataframe tbody tr th {\n",
              "        vertical-align: top;\n",
              "    }\n",
              "\n",
              "    .dataframe thead th {\n",
              "        text-align: right;\n",
              "    }\n",
              "</style>\n",
              "<table border=\"1\" class=\"dataframe\">\n",
              "  <thead>\n",
              "    <tr style=\"text-align: right;\">\n",
              "      <th></th>\n",
              "      <th>date</th>\n",
              "      <th>sales</th>\n",
              "      <th>ad_spend</th>\n",
              "      <th>platform</th>\n",
              "      <th>segment</th>\n",
              "      <th>impressions</th>\n",
              "      <th>clicks</th>\n",
              "      <th>conversions</th>\n",
              "      <th>avg_order_value</th>\n",
              "      <th>discount_rate</th>\n",
              "      <th>units_in_stock</th>\n",
              "      <th>price_index</th>\n",
              "      <th>holiday</th>\n",
              "      <th>region</th>\n",
              "    </tr>\n",
              "  </thead>\n",
              "  <tbody>\n",
              "    <tr>\n",
              "      <th>0</th>\n",
              "      <td>2024-11-01</td>\n",
              "      <td>25430.0</td>\n",
              "      <td>2149.13</td>\n",
              "      <td>Influencer</td>\n",
              "      <td>Returning</td>\n",
              "      <td>109772</td>\n",
              "      <td>3366</td>\n",
              "      <td>194</td>\n",
              "      <td>43.80</td>\n",
              "      <td>0.05</td>\n",
              "      <td>929</td>\n",
              "      <td>1.001</td>\n",
              "      <td>0</td>\n",
              "      <td>East</td>\n",
              "    </tr>\n",
              "    <tr>\n",
              "      <th>1</th>\n",
              "      <td>2024-11-02</td>\n",
              "      <td>17136.0</td>\n",
              "      <td>1374.28</td>\n",
              "      <td>Email</td>\n",
              "      <td>Enterprise</td>\n",
              "      <td>70297</td>\n",
              "      <td>1920</td>\n",
              "      <td>114</td>\n",
              "      <td>43.13</td>\n",
              "      <td>0.10</td>\n",
              "      <td>706</td>\n",
              "      <td>1.064</td>\n",
              "      <td>1</td>\n",
              "      <td>West</td>\n",
              "    </tr>\n",
              "    <tr>\n",
              "      <th>2</th>\n",
              "      <td>2024-11-03</td>\n",
              "      <td>24318.0</td>\n",
              "      <td>2043.71</td>\n",
              "      <td>TV</td>\n",
              "      <td>New</td>\n",
              "      <td>103433</td>\n",
              "      <td>3000</td>\n",
              "      <td>172</td>\n",
              "      <td>48.55</td>\n",
              "      <td>0.00</td>\n",
              "      <td>825</td>\n",
              "      <td>1.010</td>\n",
              "      <td>1</td>\n",
              "      <td>East</td>\n",
              "    </tr>\n",
              "    <tr>\n",
              "      <th>3</th>\n",
              "      <td>2024-11-04</td>\n",
              "      <td>35261.0</td>\n",
              "      <td>2970.78</td>\n",
              "      <td>Email</td>\n",
              "      <td>SMB</td>\n",
              "      <td>149795</td>\n",
              "      <td>4282</td>\n",
              "      <td>292</td>\n",
              "      <td>47.22</td>\n",
              "      <td>0.10</td>\n",
              "      <td>912</td>\n",
              "      <td>1.002</td>\n",
              "      <td>0</td>\n",
              "      <td>West</td>\n",
              "    </tr>\n",
              "    <tr>\n",
              "      <th>4</th>\n",
              "      <td>2024-11-05</td>\n",
              "      <td>19148.0</td>\n",
              "      <td>1342.90</td>\n",
              "      <td>Email</td>\n",
              "      <td>SMB</td>\n",
              "      <td>67120</td>\n",
              "      <td>2001</td>\n",
              "      <td>140</td>\n",
              "      <td>43.20</td>\n",
              "      <td>0.15</td>\n",
              "      <td>817</td>\n",
              "      <td>0.932</td>\n",
              "      <td>0</td>\n",
              "      <td>South</td>\n",
              "    </tr>\n",
              "    <tr>\n",
              "      <th>...</th>\n",
              "      <td>...</td>\n",
              "      <td>...</td>\n",
              "      <td>...</td>\n",
              "      <td>...</td>\n",
              "      <td>...</td>\n",
              "      <td>...</td>\n",
              "      <td>...</td>\n",
              "      <td>...</td>\n",
              "      <td>...</td>\n",
              "      <td>...</td>\n",
              "      <td>...</td>\n",
              "      <td>...</td>\n",
              "      <td>...</td>\n",
              "      <td>...</td>\n",
              "    </tr>\n",
              "    <tr>\n",
              "      <th>115</th>\n",
              "      <td>2025-02-24</td>\n",
              "      <td>24589.0</td>\n",
              "      <td>1769.67</td>\n",
              "      <td>Email</td>\n",
              "      <td>SMB</td>\n",
              "      <td>88418</td>\n",
              "      <td>3067</td>\n",
              "      <td>192</td>\n",
              "      <td>42.42</td>\n",
              "      <td>0.05</td>\n",
              "      <td>757</td>\n",
              "      <td>0.976</td>\n",
              "      <td>0</td>\n",
              "      <td>North</td>\n",
              "    </tr>\n",
              "    <tr>\n",
              "      <th>116</th>\n",
              "      <td>2025-02-25</td>\n",
              "      <td>22216.0</td>\n",
              "      <td>1913.22</td>\n",
              "      <td>Meta</td>\n",
              "      <td>Enterprise</td>\n",
              "      <td>91526</td>\n",
              "      <td>2920</td>\n",
              "      <td>193</td>\n",
              "      <td>45.48</td>\n",
              "      <td>0.00</td>\n",
              "      <td>638</td>\n",
              "      <td>0.984</td>\n",
              "      <td>0</td>\n",
              "      <td>West</td>\n",
              "    </tr>\n",
              "    <tr>\n",
              "      <th>117</th>\n",
              "      <td>2025-02-26</td>\n",
              "      <td>21689.0</td>\n",
              "      <td>1700.87</td>\n",
              "      <td>TV</td>\n",
              "      <td>SMB</td>\n",
              "      <td>84865</td>\n",
              "      <td>2480</td>\n",
              "      <td>183</td>\n",
              "      <td>42.69</td>\n",
              "      <td>0.10</td>\n",
              "      <td>681</td>\n",
              "      <td>1.021</td>\n",
              "      <td>0</td>\n",
              "      <td>West</td>\n",
              "    </tr>\n",
              "    <tr>\n",
              "      <th>118</th>\n",
              "      <td>2025-02-27</td>\n",
              "      <td>17518.0</td>\n",
              "      <td>1410.12</td>\n",
              "      <td>Google</td>\n",
              "      <td>SMB</td>\n",
              "      <td>67896</td>\n",
              "      <td>2277</td>\n",
              "      <td>134</td>\n",
              "      <td>42.83</td>\n",
              "      <td>0.00</td>\n",
              "      <td>955</td>\n",
              "      <td>1.026</td>\n",
              "      <td>0</td>\n",
              "      <td>West</td>\n",
              "    </tr>\n",
              "    <tr>\n",
              "      <th>119</th>\n",
              "      <td>2025-02-28</td>\n",
              "      <td>36689.0</td>\n",
              "      <td>2907.34</td>\n",
              "      <td>Meta</td>\n",
              "      <td>Enterprise</td>\n",
              "      <td>146706</td>\n",
              "      <td>4319</td>\n",
              "      <td>316</td>\n",
              "      <td>43.45</td>\n",
              "      <td>0.05</td>\n",
              "      <td>857</td>\n",
              "      <td>0.971</td>\n",
              "      <td>0</td>\n",
              "      <td>West</td>\n",
              "    </tr>\n",
              "  </tbody>\n",
              "</table>\n",
              "<p>120 rows × 14 columns</p>\n",
              "</div>\n",
              "    <div class=\"colab-df-buttons\">\n",
              "\n",
              "  <div class=\"colab-df-container\">\n",
              "    <button class=\"colab-df-convert\" onclick=\"convertToInteractive('df-8c7c4838-eb40-4f16-ba02-3aa4915bcc29')\"\n",
              "            title=\"Convert this dataframe to an interactive table.\"\n",
              "            style=\"display:none;\">\n",
              "\n",
              "  <svg xmlns=\"http://www.w3.org/2000/svg\" height=\"24px\" viewBox=\"0 -960 960 960\">\n",
              "    <path d=\"M120-120v-720h720v720H120Zm60-500h600v-160H180v160Zm220 220h160v-160H400v160Zm0 220h160v-160H400v160ZM180-400h160v-160H180v160Zm440 0h160v-160H620v160ZM180-180h160v-160H180v160Zm440 0h160v-160H620v160Z\"/>\n",
              "  </svg>\n",
              "    </button>\n",
              "\n",
              "  <style>\n",
              "    .colab-df-container {\n",
              "      display:flex;\n",
              "      gap: 12px;\n",
              "    }\n",
              "\n",
              "    .colab-df-convert {\n",
              "      background-color: #E8F0FE;\n",
              "      border: none;\n",
              "      border-radius: 50%;\n",
              "      cursor: pointer;\n",
              "      display: none;\n",
              "      fill: #1967D2;\n",
              "      height: 32px;\n",
              "      padding: 0 0 0 0;\n",
              "      width: 32px;\n",
              "    }\n",
              "\n",
              "    .colab-df-convert:hover {\n",
              "      background-color: #E2EBFA;\n",
              "      box-shadow: 0px 1px 2px rgba(60, 64, 67, 0.3), 0px 1px 3px 1px rgba(60, 64, 67, 0.15);\n",
              "      fill: #174EA6;\n",
              "    }\n",
              "\n",
              "    .colab-df-buttons div {\n",
              "      margin-bottom: 4px;\n",
              "    }\n",
              "\n",
              "    [theme=dark] .colab-df-convert {\n",
              "      background-color: #3B4455;\n",
              "      fill: #D2E3FC;\n",
              "    }\n",
              "\n",
              "    [theme=dark] .colab-df-convert:hover {\n",
              "      background-color: #434B5C;\n",
              "      box-shadow: 0px 1px 3px 1px rgba(0, 0, 0, 0.15);\n",
              "      filter: drop-shadow(0px 1px 2px rgba(0, 0, 0, 0.3));\n",
              "      fill: #FFFFFF;\n",
              "    }\n",
              "  </style>\n",
              "\n",
              "    <script>\n",
              "      const buttonEl =\n",
              "        document.querySelector('#df-8c7c4838-eb40-4f16-ba02-3aa4915bcc29 button.colab-df-convert');\n",
              "      buttonEl.style.display =\n",
              "        google.colab.kernel.accessAllowed ? 'block' : 'none';\n",
              "\n",
              "      async function convertToInteractive(key) {\n",
              "        const element = document.querySelector('#df-8c7c4838-eb40-4f16-ba02-3aa4915bcc29');\n",
              "        const dataTable =\n",
              "          await google.colab.kernel.invokeFunction('convertToInteractive',\n",
              "                                                    [key], {});\n",
              "        if (!dataTable) return;\n",
              "\n",
              "        const docLinkHtml = 'Like what you see? Visit the ' +\n",
              "          '<a target=\"_blank\" href=https://colab.research.google.com/notebooks/data_table.ipynb>data table notebook</a>'\n",
              "          + ' to learn more about interactive tables.';\n",
              "        element.innerHTML = '';\n",
              "        dataTable['output_type'] = 'display_data';\n",
              "        await google.colab.output.renderOutput(dataTable, element);\n",
              "        const docLink = document.createElement('div');\n",
              "        docLink.innerHTML = docLinkHtml;\n",
              "        element.appendChild(docLink);\n",
              "      }\n",
              "    </script>\n",
              "  </div>\n",
              "\n",
              "\n",
              "    <div id=\"df-7659d753-0f73-404f-a906-af8c301fae8d\">\n",
              "      <button class=\"colab-df-quickchart\" onclick=\"quickchart('df-7659d753-0f73-404f-a906-af8c301fae8d')\"\n",
              "                title=\"Suggest charts\"\n",
              "                style=\"display:none;\">\n",
              "\n",
              "<svg xmlns=\"http://www.w3.org/2000/svg\" height=\"24px\"viewBox=\"0 0 24 24\"\n",
              "     width=\"24px\">\n",
              "    <g>\n",
              "        <path d=\"M19 3H5c-1.1 0-2 .9-2 2v14c0 1.1.9 2 2 2h14c1.1 0 2-.9 2-2V5c0-1.1-.9-2-2-2zM9 17H7v-7h2v7zm4 0h-2V7h2v10zm4 0h-2v-4h2v4z\"/>\n",
              "    </g>\n",
              "</svg>\n",
              "      </button>\n",
              "\n",
              "<style>\n",
              "  .colab-df-quickchart {\n",
              "      --bg-color: #E8F0FE;\n",
              "      --fill-color: #1967D2;\n",
              "      --hover-bg-color: #E2EBFA;\n",
              "      --hover-fill-color: #174EA6;\n",
              "      --disabled-fill-color: #AAA;\n",
              "      --disabled-bg-color: #DDD;\n",
              "  }\n",
              "\n",
              "  [theme=dark] .colab-df-quickchart {\n",
              "      --bg-color: #3B4455;\n",
              "      --fill-color: #D2E3FC;\n",
              "      --hover-bg-color: #434B5C;\n",
              "      --hover-fill-color: #FFFFFF;\n",
              "      --disabled-bg-color: #3B4455;\n",
              "      --disabled-fill-color: #666;\n",
              "  }\n",
              "\n",
              "  .colab-df-quickchart {\n",
              "    background-color: var(--bg-color);\n",
              "    border: none;\n",
              "    border-radius: 50%;\n",
              "    cursor: pointer;\n",
              "    display: none;\n",
              "    fill: var(--fill-color);\n",
              "    height: 32px;\n",
              "    padding: 0;\n",
              "    width: 32px;\n",
              "  }\n",
              "\n",
              "  .colab-df-quickchart:hover {\n",
              "    background-color: var(--hover-bg-color);\n",
              "    box-shadow: 0 1px 2px rgba(60, 64, 67, 0.3), 0 1px 3px 1px rgba(60, 64, 67, 0.15);\n",
              "    fill: var(--button-hover-fill-color);\n",
              "  }\n",
              "\n",
              "  .colab-df-quickchart-complete:disabled,\n",
              "  .colab-df-quickchart-complete:disabled:hover {\n",
              "    background-color: var(--disabled-bg-color);\n",
              "    fill: var(--disabled-fill-color);\n",
              "    box-shadow: none;\n",
              "  }\n",
              "\n",
              "  .colab-df-spinner {\n",
              "    border: 2px solid var(--fill-color);\n",
              "    border-color: transparent;\n",
              "    border-bottom-color: var(--fill-color);\n",
              "    animation:\n",
              "      spin 1s steps(1) infinite;\n",
              "  }\n",
              "\n",
              "  @keyframes spin {\n",
              "    0% {\n",
              "      border-color: transparent;\n",
              "      border-bottom-color: var(--fill-color);\n",
              "      border-left-color: var(--fill-color);\n",
              "    }\n",
              "    20% {\n",
              "      border-color: transparent;\n",
              "      border-left-color: var(--fill-color);\n",
              "      border-top-color: var(--fill-color);\n",
              "    }\n",
              "    30% {\n",
              "      border-color: transparent;\n",
              "      border-left-color: var(--fill-color);\n",
              "      border-top-color: var(--fill-color);\n",
              "      border-right-color: var(--fill-color);\n",
              "    }\n",
              "    40% {\n",
              "      border-color: transparent;\n",
              "      border-right-color: var(--fill-color);\n",
              "      border-top-color: var(--fill-color);\n",
              "    }\n",
              "    60% {\n",
              "      border-color: transparent;\n",
              "      border-right-color: var(--fill-color);\n",
              "    }\n",
              "    80% {\n",
              "      border-color: transparent;\n",
              "      border-right-color: var(--fill-color);\n",
              "      border-bottom-color: var(--fill-color);\n",
              "    }\n",
              "    90% {\n",
              "      border-color: transparent;\n",
              "      border-bottom-color: var(--fill-color);\n",
              "    }\n",
              "  }\n",
              "</style>\n",
              "\n",
              "      <script>\n",
              "        async function quickchart(key) {\n",
              "          const quickchartButtonEl =\n",
              "            document.querySelector('#' + key + ' button');\n",
              "          quickchartButtonEl.disabled = true;  // To prevent multiple clicks.\n",
              "          quickchartButtonEl.classList.add('colab-df-spinner');\n",
              "          try {\n",
              "            const charts = await google.colab.kernel.invokeFunction(\n",
              "                'suggestCharts', [key], {});\n",
              "          } catch (error) {\n",
              "            console.error('Error during call to suggestCharts:', error);\n",
              "          }\n",
              "          quickchartButtonEl.classList.remove('colab-df-spinner');\n",
              "          quickchartButtonEl.classList.add('colab-df-quickchart-complete');\n",
              "        }\n",
              "        (() => {\n",
              "          let quickchartButtonEl =\n",
              "            document.querySelector('#df-7659d753-0f73-404f-a906-af8c301fae8d button');\n",
              "          quickchartButtonEl.style.display =\n",
              "            google.colab.kernel.accessAllowed ? 'block' : 'none';\n",
              "        })();\n",
              "      </script>\n",
              "    </div>\n",
              "\n",
              "  <div id=\"id_4c336052-ada5-4de0-8026-7a3ac9952523\">\n",
              "    <style>\n",
              "      .colab-df-generate {\n",
              "        background-color: #E8F0FE;\n",
              "        border: none;\n",
              "        border-radius: 50%;\n",
              "        cursor: pointer;\n",
              "        display: none;\n",
              "        fill: #1967D2;\n",
              "        height: 32px;\n",
              "        padding: 0 0 0 0;\n",
              "        width: 32px;\n",
              "      }\n",
              "\n",
              "      .colab-df-generate:hover {\n",
              "        background-color: #E2EBFA;\n",
              "        box-shadow: 0px 1px 2px rgba(60, 64, 67, 0.3), 0px 1px 3px 1px rgba(60, 64, 67, 0.15);\n",
              "        fill: #174EA6;\n",
              "      }\n",
              "\n",
              "      [theme=dark] .colab-df-generate {\n",
              "        background-color: #3B4455;\n",
              "        fill: #D2E3FC;\n",
              "      }\n",
              "\n",
              "      [theme=dark] .colab-df-generate:hover {\n",
              "        background-color: #434B5C;\n",
              "        box-shadow: 0px 1px 3px 1px rgba(0, 0, 0, 0.15);\n",
              "        filter: drop-shadow(0px 1px 2px rgba(0, 0, 0, 0.3));\n",
              "        fill: #FFFFFF;\n",
              "      }\n",
              "    </style>\n",
              "    <button class=\"colab-df-generate\" onclick=\"generateWithVariable('df')\"\n",
              "            title=\"Generate code using this dataframe.\"\n",
              "            style=\"display:none;\">\n",
              "\n",
              "  <svg xmlns=\"http://www.w3.org/2000/svg\" height=\"24px\"viewBox=\"0 0 24 24\"\n",
              "       width=\"24px\">\n",
              "    <path d=\"M7,19H8.4L18.45,9,17,7.55,7,17.6ZM5,21V16.75L18.45,3.32a2,2,0,0,1,2.83,0l1.4,1.43a1.91,1.91,0,0,1,.58,1.4,1.91,1.91,0,0,1-.58,1.4L9.25,21ZM18.45,9,17,7.55Zm-12,3A5.31,5.31,0,0,0,4.9,8.1,5.31,5.31,0,0,0,1,6.5,5.31,5.31,0,0,0,4.9,4.9,5.31,5.31,0,0,0,6.5,1,5.31,5.31,0,0,0,8.1,4.9,5.31,5.31,0,0,0,12,6.5,5.46,5.46,0,0,0,6.5,12Z\"/>\n",
              "  </svg>\n",
              "    </button>\n",
              "    <script>\n",
              "      (() => {\n",
              "      const buttonEl =\n",
              "        document.querySelector('#id_4c336052-ada5-4de0-8026-7a3ac9952523 button.colab-df-generate');\n",
              "      buttonEl.style.display =\n",
              "        google.colab.kernel.accessAllowed ? 'block' : 'none';\n",
              "\n",
              "      buttonEl.onclick = () => {\n",
              "        google.colab.notebook.generateWithVariable('df');\n",
              "      }\n",
              "      })();\n",
              "    </script>\n",
              "  </div>\n",
              "\n",
              "    </div>\n",
              "  </div>\n"
            ],
            "text/plain": [
              "           date    sales  ad_spend    platform     segment  impressions  \\\n",
              "0    2024-11-01  25430.0   2149.13  Influencer   Returning       109772   \n",
              "1    2024-11-02  17136.0   1374.28       Email  Enterprise        70297   \n",
              "2    2024-11-03  24318.0   2043.71          TV         New       103433   \n",
              "3    2024-11-04  35261.0   2970.78       Email         SMB       149795   \n",
              "4    2024-11-05  19148.0   1342.90       Email         SMB        67120   \n",
              "..          ...      ...       ...         ...         ...          ...   \n",
              "115  2025-02-24  24589.0   1769.67       Email         SMB        88418   \n",
              "116  2025-02-25  22216.0   1913.22        Meta  Enterprise        91526   \n",
              "117  2025-02-26  21689.0   1700.87          TV         SMB        84865   \n",
              "118  2025-02-27  17518.0   1410.12      Google         SMB        67896   \n",
              "119  2025-02-28  36689.0   2907.34        Meta  Enterprise       146706   \n",
              "\n",
              "     clicks  conversions  avg_order_value  discount_rate  units_in_stock  \\\n",
              "0      3366          194            43.80           0.05             929   \n",
              "1      1920          114            43.13           0.10             706   \n",
              "2      3000          172            48.55           0.00             825   \n",
              "3      4282          292            47.22           0.10             912   \n",
              "4      2001          140            43.20           0.15             817   \n",
              "..      ...          ...              ...            ...             ...   \n",
              "115    3067          192            42.42           0.05             757   \n",
              "116    2920          193            45.48           0.00             638   \n",
              "117    2480          183            42.69           0.10             681   \n",
              "118    2277          134            42.83           0.00             955   \n",
              "119    4319          316            43.45           0.05             857   \n",
              "\n",
              "     price_index  holiday region  \n",
              "0          1.001        0   East  \n",
              "1          1.064        1   West  \n",
              "2          1.010        1   East  \n",
              "3          1.002        0   West  \n",
              "4          0.932        0  South  \n",
              "..           ...      ...    ...  \n",
              "115        0.976        0  North  \n",
              "116        0.984        0   West  \n",
              "117        1.021        0   West  \n",
              "118        1.026        0   West  \n",
              "119        0.971        0   West  \n",
              "\n",
              "[120 rows x 14 columns]"
            ]
          },
          "execution_count": 121,
          "metadata": {},
          "output_type": "execute_result"
        }
      ],
      "source": [
        "df"
      ]
    },
    {
      "cell_type": "code",
      "execution_count": null,
      "metadata": {
        "colab": {
          "base_uri": "https://localhost:8080/",
          "height": 206
        },
        "id": "j9UhPhGyCziO",
        "outputId": "c0cf6664-2f21-41b0-e493-d339e843750c"
      },
      "outputs": [
        {
          "data": {
            "application/vnd.google.colaboratory.intrinsic+json": {
              "summary": "{\n  \"name\": \"df\",\n  \"rows\": 120,\n  \"fields\": [\n    {\n      \"column\": \"date\",\n      \"properties\": {\n        \"dtype\": \"object\",\n        \"num_unique_values\": 120,\n        \"samples\": [\n          \"2024-12-15\",\n          \"2024-12-18\",\n          \"2024-11-05\"\n        ],\n        \"semantic_type\": \"\",\n        \"description\": \"\"\n      }\n    },\n    {\n      \"column\": \"sales\",\n      \"properties\": {\n        \"dtype\": \"number\",\n        \"std\": 6859.337467695279,\n        \"min\": 6972.0,\n        \"max\": 56914.0,\n        \"num_unique_values\": 120,\n        \"samples\": [\n          20249.0,\n          13989.0,\n          19148.0\n        ],\n        \"semantic_type\": \"\",\n        \"description\": \"\"\n      }\n    },\n    {\n      \"column\": \"ad_spend\",\n      \"properties\": {\n        \"dtype\": \"number\",\n        \"std\": 500.33290562224323,\n        \"min\": 651.14,\n        \"max\": 4190.69,\n        \"num_unique_values\": 119,\n        \"samples\": [\n          2007.47,\n          1181.17,\n          1342.9\n        ],\n        \"semantic_type\": \"\",\n        \"description\": \"\"\n      }\n    },\n    {\n      \"column\": \"platform\",\n      \"properties\": {\n        \"dtype\": \"category\",\n        \"num_unique_values\": 5,\n        \"samples\": [\n          \"Email\",\n          \"Google\",\n          \"TV\"\n        ],\n        \"semantic_type\": \"\",\n        \"description\": \"\"\n      }\n    },\n    {\n      \"column\": \"segment\",\n      \"properties\": {\n        \"dtype\": \"category\",\n        \"num_unique_values\": 4,\n        \"samples\": [\n          \"Enterprise\",\n          \"SMB\",\n          \"Returning\"\n        ],\n        \"semantic_type\": \"\",\n        \"description\": \"\"\n      }\n    },\n    {\n      \"column\": \"impressions\",\n      \"properties\": {\n        \"dtype\": \"number\",\n        \"std\": 25167,\n        \"min\": 29488,\n        \"max\": 208482,\n        \"num_unique_values\": 120,\n        \"samples\": [\n          69990,\n          64285,\n          67120\n        ],\n        \"semantic_type\": \"\",\n        \"description\": \"\"\n      }\n    },\n    {\n      \"column\": \"clicks\",\n      \"properties\": {\n        \"dtype\": \"number\",\n        \"std\": 754,\n        \"min\": 871,\n        \"max\": 6367,\n        \"num_unique_values\": 117,\n        \"samples\": [\n          2053,\n          2001,\n          3146\n        ],\n        \"semantic_type\": \"\",\n        \"description\": \"\"\n      }\n    },\n    {\n      \"column\": \"conversions\",\n      \"properties\": {\n        \"dtype\": \"number\",\n        \"std\": 58,\n        \"min\": 55,\n        \"max\": 472,\n        \"num_unique_values\": 88,\n        \"samples\": [\n          144,\n          194,\n          250\n        ],\n        \"semantic_type\": \"\",\n        \"description\": \"\"\n      }\n    },\n    {\n      \"column\": \"avg_order_value\",\n      \"properties\": {\n        \"dtype\": \"number\",\n        \"std\": 4.643610373827845,\n        \"min\": 34.59,\n        \"max\": 58.16,\n        \"num_unique_values\": 113,\n        \"samples\": [\n          48.54,\n          43.2,\n          46.74\n        ],\n        \"semantic_type\": \"\",\n        \"description\": \"\"\n      }\n    },\n    {\n      \"column\": \"discount_rate\",\n      \"properties\": {\n        \"dtype\": \"number\",\n        \"std\": 0.05661896575276844,\n        \"min\": 0.0,\n        \"max\": 0.15,\n        \"num_unique_values\": 4,\n        \"samples\": [\n          0.1,\n          0.15,\n          0.05\n        ],\n        \"semantic_type\": \"\",\n        \"description\": \"\"\n      }\n    },\n    {\n      \"column\": \"units_in_stock\",\n      \"properties\": {\n        \"dtype\": \"number\",\n        \"std\": 118,\n        \"min\": 602,\n        \"max\": 997,\n        \"num_unique_values\": 101,\n        \"samples\": [\n          780,\n          775,\n          714\n        ],\n        \"semantic_type\": \"\",\n        \"description\": \"\"\n      }\n    },\n    {\n      \"column\": \"price_index\",\n      \"properties\": {\n        \"dtype\": \"number\",\n        \"std\": 0.047871676479559255,\n        \"min\": 0.879,\n        \"max\": 1.108,\n        \"num_unique_values\": 84,\n        \"samples\": [\n          1.003,\n          1.001,\n          1.038\n        ],\n        \"semantic_type\": \"\",\n        \"description\": \"\"\n      }\n    },\n    {\n      \"column\": \"holiday\",\n      \"properties\": {\n        \"dtype\": \"number\",\n        \"std\": 0,\n        \"min\": 0,\n        \"max\": 1,\n        \"num_unique_values\": 2,\n        \"samples\": [\n          1,\n          0\n        ],\n        \"semantic_type\": \"\",\n        \"description\": \"\"\n      }\n    },\n    {\n      \"column\": \"region\",\n      \"properties\": {\n        \"dtype\": \"category\",\n        \"num_unique_values\": 4,\n        \"samples\": [\n          \"West\",\n          \"North\"\n        ],\n        \"semantic_type\": \"\",\n        \"description\": \"\"\n      }\n    }\n  ]\n}",
              "type": "dataframe",
              "variable_name": "df"
            },
            "text/html": [
              "\n",
              "  <div id=\"df-8c301d89-5613-49f0-a305-3e5649b72db1\" class=\"colab-df-container\">\n",
              "    <div>\n",
              "<style scoped>\n",
              "    .dataframe tbody tr th:only-of-type {\n",
              "        vertical-align: middle;\n",
              "    }\n",
              "\n",
              "    .dataframe tbody tr th {\n",
              "        vertical-align: top;\n",
              "    }\n",
              "\n",
              "    .dataframe thead th {\n",
              "        text-align: right;\n",
              "    }\n",
              "</style>\n",
              "<table border=\"1\" class=\"dataframe\">\n",
              "  <thead>\n",
              "    <tr style=\"text-align: right;\">\n",
              "      <th></th>\n",
              "      <th>date</th>\n",
              "      <th>sales</th>\n",
              "      <th>ad_spend</th>\n",
              "      <th>platform</th>\n",
              "      <th>segment</th>\n",
              "      <th>impressions</th>\n",
              "      <th>clicks</th>\n",
              "      <th>conversions</th>\n",
              "      <th>avg_order_value</th>\n",
              "      <th>discount_rate</th>\n",
              "      <th>units_in_stock</th>\n",
              "      <th>price_index</th>\n",
              "      <th>holiday</th>\n",
              "      <th>region</th>\n",
              "    </tr>\n",
              "  </thead>\n",
              "  <tbody>\n",
              "    <tr>\n",
              "      <th>0</th>\n",
              "      <td>2024-11-01</td>\n",
              "      <td>25430.0</td>\n",
              "      <td>2149.13</td>\n",
              "      <td>Influencer</td>\n",
              "      <td>Returning</td>\n",
              "      <td>109772</td>\n",
              "      <td>3366</td>\n",
              "      <td>194</td>\n",
              "      <td>43.80</td>\n",
              "      <td>0.05</td>\n",
              "      <td>929</td>\n",
              "      <td>1.001</td>\n",
              "      <td>0</td>\n",
              "      <td>East</td>\n",
              "    </tr>\n",
              "    <tr>\n",
              "      <th>1</th>\n",
              "      <td>2024-11-02</td>\n",
              "      <td>17136.0</td>\n",
              "      <td>1374.28</td>\n",
              "      <td>Email</td>\n",
              "      <td>Enterprise</td>\n",
              "      <td>70297</td>\n",
              "      <td>1920</td>\n",
              "      <td>114</td>\n",
              "      <td>43.13</td>\n",
              "      <td>0.10</td>\n",
              "      <td>706</td>\n",
              "      <td>1.064</td>\n",
              "      <td>1</td>\n",
              "      <td>West</td>\n",
              "    </tr>\n",
              "    <tr>\n",
              "      <th>2</th>\n",
              "      <td>2024-11-03</td>\n",
              "      <td>24318.0</td>\n",
              "      <td>2043.71</td>\n",
              "      <td>TV</td>\n",
              "      <td>New</td>\n",
              "      <td>103433</td>\n",
              "      <td>3000</td>\n",
              "      <td>172</td>\n",
              "      <td>48.55</td>\n",
              "      <td>0.00</td>\n",
              "      <td>825</td>\n",
              "      <td>1.010</td>\n",
              "      <td>1</td>\n",
              "      <td>East</td>\n",
              "    </tr>\n",
              "    <tr>\n",
              "      <th>3</th>\n",
              "      <td>2024-11-04</td>\n",
              "      <td>35261.0</td>\n",
              "      <td>2970.78</td>\n",
              "      <td>Email</td>\n",
              "      <td>SMB</td>\n",
              "      <td>149795</td>\n",
              "      <td>4282</td>\n",
              "      <td>292</td>\n",
              "      <td>47.22</td>\n",
              "      <td>0.10</td>\n",
              "      <td>912</td>\n",
              "      <td>1.002</td>\n",
              "      <td>0</td>\n",
              "      <td>West</td>\n",
              "    </tr>\n",
              "    <tr>\n",
              "      <th>4</th>\n",
              "      <td>2024-11-05</td>\n",
              "      <td>19148.0</td>\n",
              "      <td>1342.90</td>\n",
              "      <td>Email</td>\n",
              "      <td>SMB</td>\n",
              "      <td>67120</td>\n",
              "      <td>2001</td>\n",
              "      <td>140</td>\n",
              "      <td>43.20</td>\n",
              "      <td>0.15</td>\n",
              "      <td>817</td>\n",
              "      <td>0.932</td>\n",
              "      <td>0</td>\n",
              "      <td>South</td>\n",
              "    </tr>\n",
              "  </tbody>\n",
              "</table>\n",
              "</div>\n",
              "    <div class=\"colab-df-buttons\">\n",
              "\n",
              "  <div class=\"colab-df-container\">\n",
              "    <button class=\"colab-df-convert\" onclick=\"convertToInteractive('df-8c301d89-5613-49f0-a305-3e5649b72db1')\"\n",
              "            title=\"Convert this dataframe to an interactive table.\"\n",
              "            style=\"display:none;\">\n",
              "\n",
              "  <svg xmlns=\"http://www.w3.org/2000/svg\" height=\"24px\" viewBox=\"0 -960 960 960\">\n",
              "    <path d=\"M120-120v-720h720v720H120Zm60-500h600v-160H180v160Zm220 220h160v-160H400v160Zm0 220h160v-160H400v160ZM180-400h160v-160H180v160Zm440 0h160v-160H620v160ZM180-180h160v-160H180v160Zm440 0h160v-160H620v160Z\"/>\n",
              "  </svg>\n",
              "    </button>\n",
              "\n",
              "  <style>\n",
              "    .colab-df-container {\n",
              "      display:flex;\n",
              "      gap: 12px;\n",
              "    }\n",
              "\n",
              "    .colab-df-convert {\n",
              "      background-color: #E8F0FE;\n",
              "      border: none;\n",
              "      border-radius: 50%;\n",
              "      cursor: pointer;\n",
              "      display: none;\n",
              "      fill: #1967D2;\n",
              "      height: 32px;\n",
              "      padding: 0 0 0 0;\n",
              "      width: 32px;\n",
              "    }\n",
              "\n",
              "    .colab-df-convert:hover {\n",
              "      background-color: #E2EBFA;\n",
              "      box-shadow: 0px 1px 2px rgba(60, 64, 67, 0.3), 0px 1px 3px 1px rgba(60, 64, 67, 0.15);\n",
              "      fill: #174EA6;\n",
              "    }\n",
              "\n",
              "    .colab-df-buttons div {\n",
              "      margin-bottom: 4px;\n",
              "    }\n",
              "\n",
              "    [theme=dark] .colab-df-convert {\n",
              "      background-color: #3B4455;\n",
              "      fill: #D2E3FC;\n",
              "    }\n",
              "\n",
              "    [theme=dark] .colab-df-convert:hover {\n",
              "      background-color: #434B5C;\n",
              "      box-shadow: 0px 1px 3px 1px rgba(0, 0, 0, 0.15);\n",
              "      filter: drop-shadow(0px 1px 2px rgba(0, 0, 0, 0.3));\n",
              "      fill: #FFFFFF;\n",
              "    }\n",
              "  </style>\n",
              "\n",
              "    <script>\n",
              "      const buttonEl =\n",
              "        document.querySelector('#df-8c301d89-5613-49f0-a305-3e5649b72db1 button.colab-df-convert');\n",
              "      buttonEl.style.display =\n",
              "        google.colab.kernel.accessAllowed ? 'block' : 'none';\n",
              "\n",
              "      async function convertToInteractive(key) {\n",
              "        const element = document.querySelector('#df-8c301d89-5613-49f0-a305-3e5649b72db1');\n",
              "        const dataTable =\n",
              "          await google.colab.kernel.invokeFunction('convertToInteractive',\n",
              "                                                    [key], {});\n",
              "        if (!dataTable) return;\n",
              "\n",
              "        const docLinkHtml = 'Like what you see? Visit the ' +\n",
              "          '<a target=\"_blank\" href=https://colab.research.google.com/notebooks/data_table.ipynb>data table notebook</a>'\n",
              "          + ' to learn more about interactive tables.';\n",
              "        element.innerHTML = '';\n",
              "        dataTable['output_type'] = 'display_data';\n",
              "        await google.colab.output.renderOutput(dataTable, element);\n",
              "        const docLink = document.createElement('div');\n",
              "        docLink.innerHTML = docLinkHtml;\n",
              "        element.appendChild(docLink);\n",
              "      }\n",
              "    </script>\n",
              "  </div>\n",
              "\n",
              "\n",
              "    <div id=\"df-b6b33268-66b3-440b-967a-55117728a7e6\">\n",
              "      <button class=\"colab-df-quickchart\" onclick=\"quickchart('df-b6b33268-66b3-440b-967a-55117728a7e6')\"\n",
              "                title=\"Suggest charts\"\n",
              "                style=\"display:none;\">\n",
              "\n",
              "<svg xmlns=\"http://www.w3.org/2000/svg\" height=\"24px\"viewBox=\"0 0 24 24\"\n",
              "     width=\"24px\">\n",
              "    <g>\n",
              "        <path d=\"M19 3H5c-1.1 0-2 .9-2 2v14c0 1.1.9 2 2 2h14c1.1 0 2-.9 2-2V5c0-1.1-.9-2-2-2zM9 17H7v-7h2v7zm4 0h-2V7h2v10zm4 0h-2v-4h2v4z\"/>\n",
              "    </g>\n",
              "</svg>\n",
              "      </button>\n",
              "\n",
              "<style>\n",
              "  .colab-df-quickchart {\n",
              "      --bg-color: #E8F0FE;\n",
              "      --fill-color: #1967D2;\n",
              "      --hover-bg-color: #E2EBFA;\n",
              "      --hover-fill-color: #174EA6;\n",
              "      --disabled-fill-color: #AAA;\n",
              "      --disabled-bg-color: #DDD;\n",
              "  }\n",
              "\n",
              "  [theme=dark] .colab-df-quickchart {\n",
              "      --bg-color: #3B4455;\n",
              "      --fill-color: #D2E3FC;\n",
              "      --hover-bg-color: #434B5C;\n",
              "      --hover-fill-color: #FFFFFF;\n",
              "      --disabled-bg-color: #3B4455;\n",
              "      --disabled-fill-color: #666;\n",
              "  }\n",
              "\n",
              "  .colab-df-quickchart {\n",
              "    background-color: var(--bg-color);\n",
              "    border: none;\n",
              "    border-radius: 50%;\n",
              "    cursor: pointer;\n",
              "    display: none;\n",
              "    fill: var(--fill-color);\n",
              "    height: 32px;\n",
              "    padding: 0;\n",
              "    width: 32px;\n",
              "  }\n",
              "\n",
              "  .colab-df-quickchart:hover {\n",
              "    background-color: var(--hover-bg-color);\n",
              "    box-shadow: 0 1px 2px rgba(60, 64, 67, 0.3), 0 1px 3px 1px rgba(60, 64, 67, 0.15);\n",
              "    fill: var(--button-hover-fill-color);\n",
              "  }\n",
              "\n",
              "  .colab-df-quickchart-complete:disabled,\n",
              "  .colab-df-quickchart-complete:disabled:hover {\n",
              "    background-color: var(--disabled-bg-color);\n",
              "    fill: var(--disabled-fill-color);\n",
              "    box-shadow: none;\n",
              "  }\n",
              "\n",
              "  .colab-df-spinner {\n",
              "    border: 2px solid var(--fill-color);\n",
              "    border-color: transparent;\n",
              "    border-bottom-color: var(--fill-color);\n",
              "    animation:\n",
              "      spin 1s steps(1) infinite;\n",
              "  }\n",
              "\n",
              "  @keyframes spin {\n",
              "    0% {\n",
              "      border-color: transparent;\n",
              "      border-bottom-color: var(--fill-color);\n",
              "      border-left-color: var(--fill-color);\n",
              "    }\n",
              "    20% {\n",
              "      border-color: transparent;\n",
              "      border-left-color: var(--fill-color);\n",
              "      border-top-color: var(--fill-color);\n",
              "    }\n",
              "    30% {\n",
              "      border-color: transparent;\n",
              "      border-left-color: var(--fill-color);\n",
              "      border-top-color: var(--fill-color);\n",
              "      border-right-color: var(--fill-color);\n",
              "    }\n",
              "    40% {\n",
              "      border-color: transparent;\n",
              "      border-right-color: var(--fill-color);\n",
              "      border-top-color: var(--fill-color);\n",
              "    }\n",
              "    60% {\n",
              "      border-color: transparent;\n",
              "      border-right-color: var(--fill-color);\n",
              "    }\n",
              "    80% {\n",
              "      border-color: transparent;\n",
              "      border-right-color: var(--fill-color);\n",
              "      border-bottom-color: var(--fill-color);\n",
              "    }\n",
              "    90% {\n",
              "      border-color: transparent;\n",
              "      border-bottom-color: var(--fill-color);\n",
              "    }\n",
              "  }\n",
              "</style>\n",
              "\n",
              "      <script>\n",
              "        async function quickchart(key) {\n",
              "          const quickchartButtonEl =\n",
              "            document.querySelector('#' + key + ' button');\n",
              "          quickchartButtonEl.disabled = true;  // To prevent multiple clicks.\n",
              "          quickchartButtonEl.classList.add('colab-df-spinner');\n",
              "          try {\n",
              "            const charts = await google.colab.kernel.invokeFunction(\n",
              "                'suggestCharts', [key], {});\n",
              "          } catch (error) {\n",
              "            console.error('Error during call to suggestCharts:', error);\n",
              "          }\n",
              "          quickchartButtonEl.classList.remove('colab-df-spinner');\n",
              "          quickchartButtonEl.classList.add('colab-df-quickchart-complete');\n",
              "        }\n",
              "        (() => {\n",
              "          let quickchartButtonEl =\n",
              "            document.querySelector('#df-b6b33268-66b3-440b-967a-55117728a7e6 button');\n",
              "          quickchartButtonEl.style.display =\n",
              "            google.colab.kernel.accessAllowed ? 'block' : 'none';\n",
              "        })();\n",
              "      </script>\n",
              "    </div>\n",
              "\n",
              "    </div>\n",
              "  </div>\n"
            ],
            "text/plain": [
              "         date    sales  ad_spend    platform     segment  impressions  clicks  \\\n",
              "0  2024-11-01  25430.0   2149.13  Influencer   Returning       109772    3366   \n",
              "1  2024-11-02  17136.0   1374.28       Email  Enterprise        70297    1920   \n",
              "2  2024-11-03  24318.0   2043.71          TV         New       103433    3000   \n",
              "3  2024-11-04  35261.0   2970.78       Email         SMB       149795    4282   \n",
              "4  2024-11-05  19148.0   1342.90       Email         SMB        67120    2001   \n",
              "\n",
              "   conversions  avg_order_value  discount_rate  units_in_stock  price_index  \\\n",
              "0          194            43.80           0.05             929        1.001   \n",
              "1          114            43.13           0.10             706        1.064   \n",
              "2          172            48.55           0.00             825        1.010   \n",
              "3          292            47.22           0.10             912        1.002   \n",
              "4          140            43.20           0.15             817        0.932   \n",
              "\n",
              "   holiday region  \n",
              "0        0   East  \n",
              "1        1   West  \n",
              "2        1   East  \n",
              "3        0   West  \n",
              "4        0  South  "
            ]
          },
          "execution_count": 122,
          "metadata": {},
          "output_type": "execute_result"
        }
      ],
      "source": [
        "df.head(5)"
      ]
    },
    {
      "cell_type": "code",
      "execution_count": null,
      "metadata": {
        "colab": {
          "base_uri": "https://localhost:8080/"
        },
        "id": "Fh8uNXm3DJK2",
        "outputId": "952687a4-693e-4a18-c8c2-2315b2d00ec4"
      },
      "outputs": [
        {
          "data": {
            "text/plain": [
              "(120, 14)"
            ]
          },
          "execution_count": 123,
          "metadata": {},
          "output_type": "execute_result"
        }
      ],
      "source": [
        "df.shape"
      ]
    },
    {
      "cell_type": "code",
      "execution_count": null,
      "metadata": {
        "colab": {
          "base_uri": "https://localhost:8080/"
        },
        "id": "RgbjdHhbDNVb",
        "outputId": "d5e49616-b6da-4792-f769-7112a38d6090"
      },
      "outputs": [
        {
          "data": {
            "text/plain": [
              "['date',\n",
              " 'sales',\n",
              " 'ad_spend',\n",
              " 'platform',\n",
              " 'segment',\n",
              " 'impressions',\n",
              " 'clicks',\n",
              " 'conversions',\n",
              " 'avg_order_value',\n",
              " 'discount_rate',\n",
              " 'units_in_stock',\n",
              " 'price_index',\n",
              " 'holiday',\n",
              " 'region']"
            ]
          },
          "execution_count": 124,
          "metadata": {},
          "output_type": "execute_result"
        }
      ],
      "source": [
        "df.columns.tolist()"
      ]
    },
    {
      "cell_type": "markdown",
      "metadata": {
        "id": "LBbRxbeuKg9S"
      },
      "source": [
        "# Ensure date is datetime and sorted (if present)"
      ]
    },
    {
      "cell_type": "code",
      "execution_count": null,
      "metadata": {
        "id": "8j37JhRdDpru"
      },
      "outputs": [],
      "source": [
        "if \"date\" in df.columns:\n",
        "    df[\"date\"] = pd.to_datetime(df[\"date\"], errors=\"coerce\")\n",
        "    df = df.sort_values(\"date\")"
      ]
    },
    {
      "cell_type": "markdown",
      "metadata": {
        "id": "QXgMjp_fHFgD"
      },
      "source": [
        "3) Basic cleaning (missing values, types)\n",
        "# We need 'sales' (target) and 'ad_spend' (key driver)"
      ]
    },
    {
      "cell_type": "code",
      "execution_count": null,
      "metadata": {
        "id": "ncrIfXx3F5c3"
      },
      "outputs": [],
      "source": [
        "df = demo.dropna(subset=[\"sales\", \"ad_spend\"])"
      ]
    },
    {
      "cell_type": "markdown",
      "metadata": {
        "id": "Ta3tRHeIHMhf"
      },
      "source": [
        "# Split numeric vs categorical for simple imputation"
      ]
    },
    {
      "cell_type": "code",
      "execution_count": null,
      "metadata": {
        "id": "mA_jr1WyGFvn"
      },
      "outputs": [],
      "source": [
        "num_cols = df.select_dtypes(include=[np.number]).columns.drop(\"Sales\", errors=\"ignore\")"
      ]
    },
    {
      "cell_type": "code",
      "execution_count": null,
      "metadata": {
        "id": "T-emKNjGGOgK"
      },
      "outputs": [],
      "source": [
        "cat_cols = df.select_dtypes(include=[\"object\",\"category\"]).columns"
      ]
    },
    {
      "cell_type": "markdown",
      "metadata": {
        "id": "qfn8SQzKH6Q-"
      },
      "source": [
        "# Fill numerics with median, categoricals with \"Unknown\""
      ]
    },
    {
      "cell_type": "code",
      "execution_count": null,
      "metadata": {
        "id": "D8QqatqWHVG3"
      },
      "outputs": [],
      "source": [
        "df[num_cols] = df[num_cols].fillna(df[num_cols].median())"
      ]
    },
    {
      "cell_type": "code",
      "execution_count": null,
      "metadata": {
        "id": "7tk15pTwHxNi"
      },
      "outputs": [],
      "source": [
        "df[cat_cols] = df[cat_cols].fillna(\"Unknown\")"
      ]
    },
    {
      "cell_type": "markdown",
      "metadata": {
        "id": "hnQYc-eIIE9I"
      },
      "source": [
        "3) Feature engineering (CTR, CVR, log, date parts)\n",
        "# CTR & CVR"
      ]
    },
    {
      "cell_type": "code",
      "execution_count": null,
      "metadata": {
        "id": "yYwXtje5H_m1"
      },
      "outputs": [],
      "source": [
        "if {\"impressions\",\"clicks\"}.issubset(df.columns):\n",
        "    df[\"ctr\"] = np.where(df[\"impressions\"]>0, df[\"clicks\"]/df[\"impressions\"], 0.0)\n",
        "else:\n",
        "    df[\"ctr\"] = 0.0"
      ]
    },
    {
      "cell_type": "code",
      "execution_count": null,
      "metadata": {
        "id": "mREu3D9vITf-"
      },
      "outputs": [],
      "source": [
        "if {\"clicks\",\"conversions\"}.issubset(df.columns):\n",
        "    df[\"cvr\"] = np.where(df[\"clicks\"]>0, df[\"conversions\"]/df[\"clicks\"], 0.0)\n",
        "else:\n",
        "    df[\"cvr\"] = 0.0"
      ]
    },
    {
      "cell_type": "markdown",
      "metadata": {
        "id": "SGX73e1tKuky"
      },
      "source": [
        "# Discounted AOV (optional)"
      ]
    },
    {
      "cell_type": "code",
      "execution_count": null,
      "metadata": {
        "id": "TN8ql5muKmFH"
      },
      "outputs": [],
      "source": [
        "if {\"avg_order_value\",\"discount_rate\"}.issubset(df.columns):\n",
        "    df[\"effective_aov\"] = df[\"avg_order_value\"] * (1 - df[\"discount_rate\"].clip(0,1))"
      ]
    },
    {
      "cell_type": "markdown",
      "metadata": {
        "id": "x9GAZGmqLJq8"
      },
      "source": [
        "## Log of ad spend for diminishing returns patterns"
      ]
    },
    {
      "cell_type": "code",
      "execution_count": null,
      "metadata": {
        "id": "kAR2LaljKzSH"
      },
      "outputs": [],
      "source": [
        "df[\"log_ad_spend\"] = np.log1p(df[\"ad_spend\"])"
      ]
    },
    {
      "cell_type": "markdown",
      "metadata": {
        "id": "zKHUQRFqLQfy"
      },
      "source": [
        "## Date features to capture seasonality"
      ]
    },
    {
      "cell_type": "code",
      "execution_count": null,
      "metadata": {
        "id": "5JugVwB0LOms"
      },
      "outputs": [],
      "source": [
        "if \"date\" in df.columns and df[\"date\"].notna().any():\n",
        "    df[\"dow\"] = df[\"date\"].dt.dayofweek\n",
        "    df[\"month\"] = df[\"date\"].dt.month\n",
        "else:\n",
        "    df[\"dow\"] = 0\n",
        "    df[\"month\"] = 0"
      ]
    },
    {
      "cell_type": "markdown",
      "metadata": {
        "id": "oSwJWN6JMPY6"
      },
      "source": [
        "4) Choose features + split train/test (time-aware)\n",
        "target = \"sales\"\n",
        "# Pick features you actually have"
      ]
    },
    {
      "cell_type": "code",
      "execution_count": null,
      "metadata": {
        "id": "hLkalGkiNsmg"
      },
      "outputs": [],
      "source": [
        "num_features = [c for c in [\n",
        "    \"ad_spend\",\"log_ad_spend\",\"impressions\",\"clicks\",\"conversions\",\n",
        "    \"ctr\",\"cvr\",\"avg_order_value\",\"effective_aov\",\"discount_rate\",\n",
        "    \"units_in_stock\",\"price_index\",\"holiday\",\"dow\",\"month\"\n",
        "] if c in df.columns]\n",
        "\n",
        "cat_features = [c for c in [\"platform\",\"segment\",\"region\"] if c in df.columns]\n",
        "\n",
        "X = df[num_features + cat_features]\n",
        "y = df[\"sales\"].values"
      ]
    },
    {
      "cell_type": "markdown",
      "metadata": {
        "id": "5yFD2GIoQCr2"
      },
      "source": [
        "# Time-aware split if date exists, else random split"
      ]
    },
    {
      "cell_type": "code",
      "execution_count": null,
      "metadata": {
        "colab": {
          "base_uri": "https://localhost:8080/"
        },
        "id": "ia06d6uOP6Qm",
        "outputId": "d6f1c0ef-0d2c-4e17-e3af-469995398d21"
      },
      "outputs": [
        {
          "name": "stdout",
          "output_type": "stream",
          "text": [
            "Train shape: (96, 18)  Test shape: (24, 18)\n"
          ]
        }
      ],
      "source": [
        "if \"date\" in df.columns and df[\"date\"].notna().any():\n",
        "    cutoff = int(len(df)*0.8)\n",
        "    X_train, X_test = X.iloc[:cutoff], X.iloc[cutoff:]\n",
        "    y_train, y_test = y[:cutoff], y[cutoff:]\n",
        "else:\n",
        "    X_train, X_test, y_train, y_test = train_test_split(\n",
        "        X, y, test_size=0.2, random_state=42\n",
        "    )\n",
        "\n",
        "print(\"Train shape:\", X_train.shape, \" Test shape:\", X_test.shape)"
      ]
    },
    {
      "cell_type": "markdown",
      "metadata": {
        "id": "Ib18xtXHQJQa"
      },
      "source": [
        "5) Preprocessing (scale numbers, one-hot encode categories)"
      ]
    },
    {
      "cell_type": "code",
      "execution_count": null,
      "metadata": {
        "id": "qty5FsOJQRNa"
      },
      "outputs": [],
      "source": [
        "preprocess = ColumnTransformer(\n",
        "    transformers=[\n",
        "        (\"num\", StandardScaler(), num_features),\n",
        "        (\"cat\", OneHotEncoder(handle_unknown=\"ignore\"), cat_features)\n",
        "    ],\n",
        "    remainder=\"drop\"\n",
        ")"
      ]
    },
    {
      "cell_type": "markdown",
      "metadata": {
        "id": "gs-6_W_PQVpX"
      },
      "source": [
        "6) Train two models (Linear & Random Forest) and pick the best"
      ]
    },
    {
      "cell_type": "code",
      "execution_count": null,
      "metadata": {
        "colab": {
          "base_uri": "https://localhost:8080/"
        },
        "id": "gmxtf4kSR-s0",
        "outputId": "475df487-825c-4eec-cde8-ea00087131f4"
      },
      "outputs": [
        {
          "name": "stdout",
          "output_type": "stream",
          "text": [
            "Linear -> R2: 0.930 | MAE: 1,205.1 | RMSE: 1,500.4\n",
            "RandomForest -> R2: 0.894 | MAE: 1,620.4 | RMSE: 1,851.7\n",
            "Selected best model: LinearRegression\n"
          ]
        }
      ],
      "source": [
        "import numpy as np\n",
        "from sklearn.metrics import r2_score, mean_absolute_error, mean_squared_error\n",
        "\n",
        "def fit_eval(pipe, name):\n",
        "    pipe.fit(X_train, y_train)\n",
        "    pred = pipe.predict(X_test)\n",
        "    r2   = r2_score(y_test, pred)\n",
        "    mae  = mean_absolute_error(y_test, pred)\n",
        "    rmse = np.sqrt(mean_squared_error(y_test, pred))  # <-- FIXED\n",
        "    print(f\"{name} -> R2: {r2:.3f} | MAE: {mae:,.1f} | RMSE: {rmse:,.1f}\")\n",
        "    return pipe, {\"r2\": r2, \"mae\": mae, \"rmse\": rmse}\n",
        "\n",
        "# now run\n",
        "m_lin, s_lin = fit_eval(lin_model, \"Linear\")\n",
        "m_rf,  s_rf  = fit_eval(rf_model,  \"RandomForest\")\n",
        "\n",
        "best_model = m_rf if s_rf[\"r2\"] >= s_lin[\"r2\"] else m_lin\n",
        "print(\"Selected best model:\", type(best_model.named_steps[\"model\"]).__name__)\n"
      ]
    },
    {
      "cell_type": "markdown",
      "metadata": {
        "id": "2A3rRlKhSe4F"
      },
      "source": [
        "7) Explain drivers: permutation importance + ad_spend partial dependence\n",
        "# Permutation importance works on any sklearn model"
      ]
    },
    {
      "cell_type": "code",
      "execution_count": null,
      "metadata": {
        "colab": {
          "base_uri": "https://localhost:8080/",
          "height": 732
        },
        "id": "zijIN4LCQbey",
        "outputId": "731fcfea-d0c6-49ec-f7ad-1aa26c79e3ee"
      },
      "outputs": [
        {
          "name": "stdout",
          "output_type": "stream",
          "text": [
            "\n",
            "Top drivers:\n",
            "             feature  importance\n",
            "4       conversions    1.148776\n",
            "0          ad_spend    0.348950\n",
            "8     effective_aov    0.204409\n",
            "9     discount_rate    0.134177\n",
            "3            clicks    0.111578\n",
            "7   avg_order_value    0.109775\n",
            "2       impressions    0.103232\n",
            "5               ctr    0.025572\n",
            "15         platform    0.011846\n",
            "16          segment    0.009392\n",
            "1      log_ad_spend    0.007494\n",
            "12          holiday    0.004072\n"
          ]
        },
        {
          "data": {
            "image/png": "[encoded data removed]",
            "text/plain": [
              "<Figure size 640x480 with 2 Axes>"
            ]
          },
          "metadata": {},
          "output_type": "display_data"
        }
      ],
      "source": [
        "perm = permutation_importance(best_model, X_test, y_test, n_repeats=8, random_state=42)\n",
        "imp_df = pd.DataFrame({\"feature\": X_test.columns, \"importance\": perm.importances_mean}) \\\n",
        "         .sort_values(\"importance\", ascending=False)\n",
        "print(\"\\nTop drivers:\\n\", imp_df.head(12))\n",
        "\n",
        "# Partial dependence for ad_spend (if present)\n",
        "if \"ad_spend\" in num_features:\n",
        "    PartialDependenceDisplay.from_estimator(best_model, X_test, [\"ad_spend\"])\n",
        "    plt.title(\"Partial Dependence: ad_spend → sales\")\n",
        "    plt.show()"
      ]
    },
    {
      "cell_type": "markdown",
      "metadata": {
        "id": "nYa62Ot6Sq1h"
      },
      "source": [
        "8) “What-if” simulator: change ad spend and see uplift (+ ROI)"
      ]
    },
    {
      "cell_type": "code",
      "execution_count": null,
      "metadata": {
        "id": "EbS36VyWSxiQ"
      },
      "outputs": [],
      "source": [
        "def simulate_spend_change(model, X_ref: pd.DataFrame, pct_change: float, scope: dict|None=None):\n",
        "    \"\"\"\n",
        "    pct_change: +0.10 for +10% ; -0.10 for -10%\n",
        "    scope: limit where change applies, e.g. {\"platform\":\"Google\"} or {\"segment\":\"New\"}\n",
        "    \"\"\"\n",
        "    X_new = X_ref.copy()\n",
        "    mask = pd.Series(True, index=X_new.index)\n",
        "    if scope:\n",
        "        for k, v in scope.items():\n",
        "            if k in X_new.columns:\n",
        "                mask &= (X_new[k] == v)"
      ]
    },
    {
      "cell_type": "markdown",
      "metadata": {
        "id": "YnZUvYEzS3RB"
      },
      "source": [
        " # apply change"
      ]
    },
    {
      "cell_type": "code",
      "execution_count": null,
      "metadata": {
        "id": "TvMLuArfS6y8"
      },
      "outputs": [],
      "source": [
        "def simulate_spend_change(model, X_ref, pct_change=0.1, scope=None):\n",
        "    X_new = X_ref.copy()\n",
        "\n",
        "    if \"ad_spend\" not in X_new.columns:\n",
        "        raise ValueError(\"Column 'ad_spend' not found in dataset!\")\n",
        "\n",
        "    # Scope handling\n",
        "    if scope is None:\n",
        "        mask = np.ones(len(X_new), dtype=bool)   # all rows\n",
        "    elif isinstance(scope, dict):\n",
        "        # Build mask from column conditions\n",
        "        mask = np.ones(len(X_new), dtype=bool)\n",
        "        for col, val in scope.items():\n",
        "            mask &= (X_new[col] == val)\n",
        "    else:\n",
        "        mask = scope   # assume already boolean mask\n",
        "\n",
        "    # Apply ad spend change\n",
        "    X_new.loc[mask, \"ad_spend\"] *= (1 + pct_change)\n",
        "\n",
        "    if \"log_ad_spend\" in X_new.columns:\n",
        "        X_new[\"log_ad_spend\"] = np.log1p(X_new[\"ad_spend\"])\n",
        "\n",
        "    # Predictions\n",
        "    base = model.predict(X_ref)\n",
        "    scen = model.predict(X_new)\n",
        "\n",
        "    out = pd.DataFrame({\n",
        "        \"baseline\": base,\n",
        "        \"scenario\": scen,\n",
        "        \"uplift\": scen - base,\n",
        "        \"uplift_%\": np.where(base != 0, (scen - base) / np.maximum(base, 1e-9), np.nan)\n",
        "    }, index=X_ref.index)\n",
        "\n",
        "    return out\n",
        "\n"
      ]
    },
    {
      "cell_type": "code",
      "execution_count": null,
      "metadata": {
        "id": "abEZuIciVUaD"
      },
      "outputs": [],
      "source": [
        "def est_roi(uplift_sales_sum: float, extra_spend_sum: float, margin_rate: float=0.6) -> float:\n",
        "    \"\"\"Very simple ROI estimate.\"\"\"\n",
        "    return (uplift_sales_sum*margin_rate - extra_spend_sum) / max(extra_spend_sum, 1e-9)"
      ]
    },
    {
      "cell_type": "markdown",
      "metadata": {
        "id": "5ghpHZeAVuU9"
      },
      "source": [
        "# Example 1: +10% ad spend on all test rows"
      ]
    },
    {
      "cell_type": "code",
      "execution_count": null,
      "metadata": {
        "colab": {
          "base_uri": "https://localhost:8080/"
        },
        "id": "Av-I2lv6Vprn",
        "outputId": "9b7facc9-6a79-4921-a880-94324fa5de92"
      },
      "outputs": [
        {
          "name": "stdout",
          "output_type": "stream",
          "text": [
            "\n",
            "What-if +10% overall (test set):\n",
            "            uplift   uplift_%\n",
            "count    24.000000  24.000000\n",
            "mean   -881.057809  -0.035746\n",
            "std     236.811698   0.004016\n",
            "min   -1481.754075  -0.044984\n",
            "25%   -1041.355573  -0.038829\n",
            "50%    -858.573603  -0.035061\n",
            "75%    -726.645037  -0.034074\n",
            "max    -501.965458  -0.028501\n"
          ]
        }
      ],
      "source": [
        "whatif_all = simulate_spend_change(best_model, X_test, pct_change=+0.10, scope=None)\n",
        "print(\"\\nWhat-if +10% overall (test set):\")\n",
        "print(whatif_all.describe()[[\"uplift\",\"uplift_%\"]])"
      ]
    },
    {
      "cell_type": "markdown",
      "metadata": {
        "id": "b2aUv0CfWufL"
      },
      "source": [
        "# Example 2: +15% only for the most common platform (if available)"
      ]
    },
    {
      "cell_type": "code",
      "execution_count": null,
      "metadata": {
        "colab": {
          "base_uri": "https://localhost:8080/"
        },
        "id": "W6qKJTbhWtiQ",
        "outputId": "1cb96213-4262-4e33-84f1-c09a8750b000"
      },
      "outputs": [
        {
          "name": "stdout",
          "output_type": "stream",
          "text": [
            "\n",
            "What-if +15% only on platform=Google:\n",
            "            uplift   uplift_%\n",
            "count    24.000000  24.000000\n",
            "mean   -341.853604  -0.013035\n",
            "std     627.425281   0.023171\n",
            "min   -1807.865116  -0.057204\n",
            "25%    -225.677526  -0.010776\n",
            "50%       0.000000   0.000000\n",
            "75%       0.000000   0.000000\n",
            "max       0.000000   0.000000\n"
          ]
        }
      ],
      "source": [
        "if \"platform\" in X_test.columns:\n",
        "    top_platform = X_test[\"platform\"].mode().iloc[0]\n",
        "    whatif_plat = simulate_spend_change(best_model, X_test, pct_change=+0.15, scope={\"platform\": top_platform})\n",
        "    print(f\"\\nWhat-if +15% only on platform={top_platform}:\")\n",
        "    print(whatif_plat.describe()[[\"uplift\",\"uplift_%\"]])"
      ]
    },
    {
      "cell_type": "markdown",
      "metadata": {
        "id": "ycUK7C46Xfg7"
      },
      "source": [
        "# Simple ROI back-of-the-envelope (assuming margin 60%)"
      ]
    },
    {
      "cell_type": "code",
      "execution_count": null,
      "metadata": {
        "colab": {
          "base_uri": "https://localhost:8080/"
        },
        "id": "Hp_A1X_ZXcI_",
        "outputId": "91e91bbe-a642-4a8d-aba7-91854febb74c"
      },
      "outputs": [
        {
          "name": "stdout",
          "output_type": "stream",
          "text": [
            "\n",
            "Estimated ROI for +10% spend: -3.79 (margin=60%)\n"
          ]
        }
      ],
      "source": [
        "if \"ad_spend\" in X_test.columns:\n",
        "    extra_spend = (X_test[\"ad_spend\"]*0.10).sum()   # total +10% cost in test window\n",
        "    uplift_sales = whatif_all[\"uplift\"].sum()\n",
        "    roi = est_roi(uplift_sales, extra_spend, margin_rate=0.6)\n",
        "    print(f\"\\nEstimated ROI for +10% spend: {roi:.2f} (margin=60%)\")\n"
      ]
    },
    {
      "cell_type": "markdown",
      "metadata": {
        "id": "D3g7HZ75XlqP"
      },
      "source": [
        " 9) Time-series forecast with ad_spend as exogenous (SARIMAX)"
      ]
    },
    {
      "cell_type": "markdown",
      "metadata": {
        "id": "gROJHHDxX33u"
      },
      "source": [
        "Use this when you have a date column (daily/weekly) and want a short-term forecast and scenario curves for ad spend."
      ]
    },
    {
      "cell_type": "code",
      "execution_count": null,
      "metadata": {
        "colab": {
          "base_uri": "https://localhost:8080/",
          "height": 452
        },
        "id": "jgv_h7SZXpxl",
        "outputId": "c60cd7d5-d0e4-4061-c7ae-5c8851b7b98e"
      },
      "outputs": [
        {
          "data": {
            "image/png": "[encoded data removed]",
            "text/plain": [
              "<Figure size 640x480 with 1 Axes>"
            ]
          },
          "metadata": {},
          "output_type": "display_data"
        }
      ],
      "source": [
        "if HAS_STATS and \"date\" in df.columns and df[\"date\"].notna().any():\n",
        "    # Aggregate to daily and interpolate small gaps\n",
        "    ts = df[[\"date\",\"sales\",\"ad_spend\"]].groupby(\"date\", as_index=False).sum().set_index(\"date\").asfreq(\"D\")\n",
        "    ts[\"sales\"] = ts[\"sales\"].interpolate()\n",
        "    ts[\"ad_spend\"] = ts[\"ad_spend\"].interpolate()\n",
        "\n",
        "    split = int(len(ts)*0.85)\n",
        "    train, test = ts.iloc[:split], ts.iloc[split:]\n",
        "\n",
        "    # Basic seasonal weekly model\n",
        "    model_ts = SARIMAX(train[\"sales\"], exog=train[[\"ad_spend\"]],\n",
        "                       order=(1,1,1), seasonal_order=(1,1,1,7),\n",
        "                       enforce_stationarity=False, enforce_invertibility=False)\n",
        "    fit = model_ts.fit(disp=False)\n",
        "\n",
        "    # Baseline forecast\n",
        "    fc_base = fit.get_forecast(steps=len(test), exog=test[[\"ad_spend\"]]).predicted_mean\n",
        "\n",
        "    # Scenario: +10% ad spend in the forecast window\n",
        "    exog_plus = test[[\"ad_spend\"]] * 1.10\n",
        "    fc_plus = fit.get_forecast(steps=len(test), exog=exog_plus).predicted_mean\n",
        "\n",
        "    # Scenario: -10% ad spend\n",
        "    exog_minus = test[[\"ad_spend\"]] * 0.90\n",
        "    fc_minus = fit.get_forecast(steps=len(test), exog=exog_minus).predicted_mean\n",
        "\n",
        "    # Plot\n",
        "    plt.figure()\n",
        "    plt.plot(train.index, train[\"sales\"], label=\"Train\")\n",
        "    plt.plot(test.index, test[\"sales\"], label=\"Actual\")\n",
        "    plt.plot(test.index, fc_base, label=\"Forecast (baseline)\")\n",
        "    plt.plot(test.index, fc_plus, label=\"Forecast (+10% spend)\")\n",
        "    plt.plot(test.index, fc_minus, label=\"Forecast (-10% spend)\")\n",
        "    plt.title(\"SARIMAX Forecast with Ad Spend Scenarios\")\n",
        "    plt.legend()\n",
        "    plt.show()\n",
        "else:\n",
        "    print(\"Skipping SARIMAX (no statsmodels or no usable 'date').\")\n"
      ]
    },
    {
      "cell_type": "markdown",
      "metadata": {
        "id": "Nfz1Zh-9ZxEn"
      },
      "source": [
        "10) Turn model outputs into actionable insights"
      ]
    },
    {
      "cell_type": "code",
      "execution_count": null,
      "metadata": {
        "colab": {
          "base_uri": "https://localhost:8080/"
        },
        "id": "57pg76XpZ3t3",
        "outputId": "06e36070-0171-4ffb-8939-72583fcd8619"
      },
      "outputs": [
        {
          "name": "stdout",
          "output_type": "stream",
          "text": [
            "\n",
            "--- Actionable Insights ---\n",
            "Top 5 drivers right now:\n",
            "      feature  importance\n",
            "  conversions    1.148776\n",
            "     ad_spend    0.348950\n",
            "effective_aov    0.204409\n",
            "discount_rate    0.134177\n",
            "       clicks    0.111578\n",
            "Approx. elasticity: +10% ad spend → ~-3.6% sales change (at current levels).\n",
            "\n",
            "Where to add budget first (higher is better):\n",
            "  platform  uplift_per_extra_currency\n",
            "Influencer                  -4.462950\n",
            "        TV                  -4.556980\n",
            "    Google                  -4.685877\n",
            "      Meta                  -4.719402\n",
            "     Email                  -4.787620\n"
          ]
        }
      ],
      "source": [
        "print(\"\\n--- Actionable Insights ---\")\n",
        "\n",
        "# 1) Top drivers\n",
        "print(\"Top 5 drivers right now:\")\n",
        "print(imp_df.head(5).to_string(index=False))\n",
        "\n",
        "# 2) Elasticity near current levels (rough)\n",
        "if \"uplift_%\" in whatif_all:\n",
        "    elastic = float(whatif_all[\"uplift_%\"].replace([np.inf,-np.inf], np.nan).dropna().mean()*100)\n",
        "    print(f\"Approx. elasticity: +10% ad spend → ~{elastic:.1f}% sales change (at current levels).\")\n",
        "\n",
        "# 3) Budget direction\n",
        "if \"platform\" in X_test.columns:\n",
        "    # Compare ROI-like metric per platform: uplift / extra_spend\n",
        "    rows = []\n",
        "    for p in X_test[\"platform\"].unique():\n",
        "        w = simulate_spend_change(best_model, X_test, pct_change=+0.10, scope={\"platform\": p})\n",
        "        extra = float((X_test.loc[X_test[\"platform\"]==p, \"ad_spend\"]*0.10).sum())\n",
        "        uplift = float(w[\"uplift\"].sum())\n",
        "        if extra > 0:\n",
        "            rows.append([p, uplift/extra])\n",
        "    if rows:\n",
        "        roi_rank = pd.DataFrame(rows, columns=[\"platform\",\"uplift_per_extra_currency\"]).sort_values(\n",
        "            \"uplift_per_extra_currency\", ascending=False)\n",
        "        print(\"\\nWhere to add budget first (higher is better):\")\n",
        "        print(roi_rank.to_string(index=False))"
      ]
    }
  ],
  "metadata": {
    "colab": {
      "provenance": []
    },
    "kernelspec": {
      "display_name": "Python 3",
      "name": "python3"
    },
    "language_info": {
      "name": "python"
    }
  },
  "nbformat": 4,
  "nbformat_minor": 0
}
